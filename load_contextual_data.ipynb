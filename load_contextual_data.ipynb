{
 "cells": [
  {
   "cell_type": "code",
   "execution_count": 6,
   "metadata": {},
   "outputs": [],
   "source": [
    "import pandas as pd\n",
    "import geopandas as gpd"
   ]
  },
  {
   "cell_type": "markdown",
   "metadata": {},
   "source": [
    "## Load parks"
   ]
  },
  {
   "cell_type": "code",
   "execution_count": 3,
   "metadata": {},
   "outputs": [],
   "source": [
    "df_parks = gpd.read_file(\"https://data.cityofnewyork.us/resource/enfh-gkve.geojson?$limit=1000000\")"
   ]
  },
  {
   "cell_type": "code",
   "execution_count": 4,
   "metadata": {},
   "outputs": [],
   "source": [
    "df_parks[df_parks['communityboard']=='103'].to_file('data/parks.geojson')"
   ]
  },
  {
   "cell_type": "markdown",
   "metadata": {},
   "source": [
    "## Load subsidized housing"
   ]
  },
  {
   "cell_type": "code",
   "execution_count": 10,
   "metadata": {},
   "outputs": [
    {
     "name": "stderr",
     "output_type": "stream",
     "text": [
      "/var/folders/_q/g5l2s5950hz1zr9syt43gzp80000gn/T/ipykernel_73686/3682638536.py:2: DtypeWarning: Columns (103,106,118) have mixed types. Specify dtype option on import or set low_memory=False.\n",
      "  df_subsidized = pd.read_csv(\"data/FC_SHD_bbl_analysis_2024-08-29.csv\")\n"
     ]
    },
    {
     "data": {
      "text/plain": [
       "Index(['data_dof', 'data_hcrlihtc', 'data_hpd', 'data_hudcon', 'data_hudfin',\n",
       "       'data_hudlihtc', 'data_ml', 'data_nycha', 'sub_fin', 'sub_prog',\n",
       "       'sub_tax', 'sub_zone', 'prog_202_8', 'start_202_8', 'end_202_8',\n",
       "       'prog_221d', 'start_221d', 'end_221d', 'prog_223', 'start_223',\n",
       "       'end_223', 'prog_420c', 'start_420c', 'end_420c', 'prog_421a',\n",
       "       'start_421a', 'end_421a', 'prog_421a_aff', 'start_421a_aff',\n",
       "       'end_421a_aff', 'prog_8a', 'start_8a', 'end_8a', 'prog_hpd_oth',\n",
       "       'start_hpd_oth', 'end_hpd_oth', 'prog_hud_fin_oth', 'start_hud_fin_oth',\n",
       "       'end_hud_fin_oth', 'prog_hud_proj_oth', 'start_hud_proj_oth',\n",
       "       'end_hud_proj_oth', 'prog_inclus_hous', 'start_inclus_hous',\n",
       "       'end_inclus_hous', 'prog_j51', 'start_j51', 'end_j51', 'prog_lamp',\n",
       "       'start_lamp', 'end_lamp', 'prog_lihtc4', 'start_lihtc4', 'end_lihtc4',\n",
       "       'prog_lihtc9', 'start_lihtc9', 'end_lihtc9', 'prog_lmsa', 'start_lmsa',\n",
       "       'end_lmsa', 'prog_mfp', 'start_mfp', 'end_mfp', 'prog_ml', 'start_ml',\n",
       "       'end_ml', 'prog_nep', 'start_nep', 'end_nep', 'prog_nrp', 'start_nrp',\n",
       "       'end_nrp', 'prog_nycha_mix', 'start_nycha_mix', 'end_nycha_mix',\n",
       "       'prog_nycha_ph', 'start_nycha_ph', 'end_nycha_ph', 'prog_plp',\n",
       "       'start_plp', 'end_plp', 'prog_prac_202', 'start_prac_202',\n",
       "       'end_prac_202', 'prog_proj8', 'start_proj8', 'end_proj8', 'prog_rad',\n",
       "       'start_rad', 'end_rad', 'prog_tpt', 'start_tpt', 'end_tpt',\n",
       "       'prog_year15', 'start_year15', 'end_year15'],\n",
       "      dtype='object')"
      ]
     },
     "execution_count": 10,
     "metadata": {},
     "output_type": "execute_result"
    }
   ],
   "source": [
    "#df_subsidized = pd.read_csv(\"https://furmancenter.org/files/CoreData/FC_SHD_bbl_analysis_2024-08-29.csv\")\n",
    "df_subsidized = pd.read_csv(\"data/FC_SHD_bbl_analysis_2024-08-29.csv\")\n",
    "df_subsidized.columns[30:]"
   ]
  },
  {
   "cell_type": "code",
   "execution_count": 14,
   "metadata": {},
   "outputs": [],
   "source": [
    "# load mappluto\n",
    "#pluto = gpd.read_file(\"data/nyc_mappluto_25v1_1_fgdb/MapPLUTO25v1_1.gdb\")\n",
    "#plutocb3 = pluto[pluto['CD']==103]\n",
    "#plutocb3.to_file('data/cb3_pluto.geojson')\n",
    "plutocb3 = gpd.read_file('data/cb3_pluto.geojson')"
   ]
  },
  {
   "cell_type": "code",
   "execution_count": 15,
   "metadata": {},
   "outputs": [],
   "source": [
    "plutocb3_subhousing = plutocb3.merge(df_subsidized.rename(columns={'bbl':'BBL'}), on='BBL')"
   ]
  },
  {
   "cell_type": "code",
   "execution_count": 25,
   "metadata": {},
   "outputs": [],
   "source": [
    "nycha = plutocb3_subhousing[(plutocb3_subhousing['prog_nycha_mix']==1)|(plutocb3_subhousing['prog_nycha_ph']==1)]\n",
    "nycha.to_crs(4326).to_file('data/nycha.geojson')"
   ]
  },
  {
   "cell_type": "code",
   "execution_count": 26,
   "metadata": {},
   "outputs": [],
   "source": [
    "sec8 = plutocb3_subhousing[(plutocb3_subhousing['prog_proj8']==1)|(plutocb3_subhousing['prog_rad']==1)]\n",
    "sec8.to_crs(4326).to_file('data/sec8.geojson')"
   ]
  },
  {
   "cell_type": "code",
   "execution_count": 30,
   "metadata": {},
   "outputs": [],
   "source": [
    "ml = plutocb3_subhousing[(plutocb3_subhousing['prog_ml']==1)]\n",
    "ml.to_crs(4326).to_file('data/ml.geojson')"
   ]
  },
  {
   "cell_type": "code",
   "execution_count": 74,
   "metadata": {},
   "outputs": [],
   "source": [
    "knickerbocker_village = plutocb3[plutocb3['BBL'].astype(str).str.contains('002530001')][['Address', 'OwnerName', 'geometry']]\n",
    "knickerbocker_village.to_crs(4326).to_file('data/knickerbocker_village.geojson')"
   ]
  },
  {
   "cell_type": "markdown",
   "metadata": {},
   "source": [
    "## Load Crashes"
   ]
  },
  {
   "cell_type": "code",
   "execution_count": 149,
   "metadata": {},
   "outputs": [],
   "source": [
    "# load 2023 sectors\n",
    "gdf_sectors = gpd.read_file(\"data/acs_2023_mapbox.geojson\")"
   ]
  },
  {
   "cell_type": "code",
   "execution_count": 150,
   "metadata": {},
   "outputs": [],
   "source": [
    "#df_crash = pd.read_csv(\"https://data.cityofnewyork.us/resource/h9gi-nx95.csv?$limit=10000000\")\n",
    "#df_crash = gpd.read_file(\"https://data.cityofnewyork.us/resource/h9gi-nx95.geojson?$query=SELECT%0A%20%20%60crash_date%60%2C%0A%20%20%60crash_time%60%2C%0A%20%20%60borough%60%2C%0A%20%20%60zip_code%60%2C%0A%20%20%60latitude%60%2C%0A%20%20%60longitude%60%2C%0A%20%20%60location%60%2C%0A%20%20%60on_street_name%60%2C%0A%20%20%60off_street_name%60%2C%0A%20%20%60cross_street_name%60%2C%0A%20%20%60number_of_persons_injured%60%2C%0A%20%20%60number_of_persons_killed%60%2C%0A%20%20%60number_of_pedestrians_injured%60%2C%0A%20%20%60number_of_pedestrians_killed%60%2C%0A%20%20%60number_of_cyclist_injured%60%2C%0A%20%20%60number_of_cyclist_killed%60%2C%0A%20%20%60number_of_motorist_injured%60%2C%0A%20%20%60number_of_motorist_killed%60%2C%0A%20%20%60contributing_factor_vehicle_1%60%2C%0A%20%20%60contributing_factor_vehicle_2%60%2C%0A%20%20%60contributing_factor_vehicle_3%60%2C%0A%20%20%60contributing_factor_vehicle_4%60%2C%0A%20%20%60contributing_factor_vehicle_5%60%2C%0A%20%20%60collision_id%60%2C%0A%20%20%60vehicle_type_code1%60%2C%0A%20%20%60vehicle_type_code2%60%2C%0A%20%20%60vehicle_type_code_3%60%2C%0A%20%20%60vehicle_type_code_4%60%2C%0A%20%20%60vehicle_type_code_5%60%0AWHERE%0A%20%20%60crash_date%60%0A%20%20%20%20BETWEEN%20%222024-06-02T00%3A00%3A00%22%20%3A%3A%20floating_timestamp%0A%20%20%20%20AND%20%222025-06-02T23%3A22%3A11%22%20%3A%3A%20floating_timestamp\")\n",
    "df_crash = pd.read_csv(\"data/Motor_Vehicle_Collisions_-_Crashes_20250602.csv\")\n",
    "gdf_crash = gpd.GeoDataFrame(\n",
    "    df_crash, geometry=gpd.points_from_xy(df_crash.LONGITUDE, df_crash.LATITUDE), crs=\"EPSG:4326\"\n",
    ")\n",
    "gdf_crash.columns = gdf_crash.columns.str.lower().str.replace(' ', '_')"
   ]
  },
  {
   "cell_type": "code",
   "execution_count": 151,
   "metadata": {},
   "outputs": [],
   "source": [
    "gdf_crash_cb3 = gdf_crash.sjoin(gdf_sectors, how='inner')"
   ]
  },
  {
   "cell_type": "code",
   "execution_count": 152,
   "metadata": {},
   "outputs": [],
   "source": [
    "gdf_crash_cb3['crash_date'] = pd.to_datetime(gdf_crash_cb3['crash_date'])\n",
    "gdf_crash_cb3['crash_month'] = gdf_crash_cb3['crash_date'].dt.month\n",
    "gdf_crash_cb3['crash_year'] = gdf_crash_cb3['crash_date'].dt.year"
   ]
  },
  {
   "cell_type": "code",
   "execution_count": 153,
   "metadata": {},
   "outputs": [
    {
     "data": {
      "text/html": [
       "<div>\n",
       "<style scoped>\n",
       "    .dataframe tbody tr th:only-of-type {\n",
       "        vertical-align: middle;\n",
       "    }\n",
       "\n",
       "    .dataframe tbody tr th {\n",
       "        vertical-align: top;\n",
       "    }\n",
       "\n",
       "    .dataframe thead th {\n",
       "        text-align: right;\n",
       "    }\n",
       "</style>\n",
       "<table border=\"1\" class=\"dataframe\">\n",
       "  <thead>\n",
       "    <tr style=\"text-align: right;\">\n",
       "      <th></th>\n",
       "      <th>sectors</th>\n",
       "      <th>crash_month</th>\n",
       "      <th>crash_year</th>\n",
       "      <th>number_of_motorist_injured</th>\n",
       "      <th>number_of_cyclist_killed</th>\n",
       "      <th>number_of_cyclist_injured</th>\n",
       "      <th>number_of_persons_killed</th>\n",
       "      <th>number_of_persons_injured</th>\n",
       "      <th>number_of_pedestrians_killed</th>\n",
       "      <th>number_of_pedestrians_injured</th>\n",
       "    </tr>\n",
       "  </thead>\n",
       "  <tbody>\n",
       "    <tr>\n",
       "      <th>0</th>\n",
       "      <td>1</td>\n",
       "      <td>1</td>\n",
       "      <td>2025</td>\n",
       "      <td>1</td>\n",
       "      <td>0</td>\n",
       "      <td>1</td>\n",
       "      <td>0</td>\n",
       "      <td>4</td>\n",
       "      <td>0</td>\n",
       "      <td>2</td>\n",
       "    </tr>\n",
       "    <tr>\n",
       "      <th>1</th>\n",
       "      <td>1</td>\n",
       "      <td>2</td>\n",
       "      <td>2025</td>\n",
       "      <td>1</td>\n",
       "      <td>0</td>\n",
       "      <td>1</td>\n",
       "      <td>0</td>\n",
       "      <td>4</td>\n",
       "      <td>0</td>\n",
       "      <td>2</td>\n",
       "    </tr>\n",
       "    <tr>\n",
       "      <th>2</th>\n",
       "      <td>1</td>\n",
       "      <td>3</td>\n",
       "      <td>2025</td>\n",
       "      <td>2</td>\n",
       "      <td>0</td>\n",
       "      <td>1</td>\n",
       "      <td>0</td>\n",
       "      <td>3</td>\n",
       "      <td>0</td>\n",
       "      <td>0</td>\n",
       "    </tr>\n",
       "    <tr>\n",
       "      <th>3</th>\n",
       "      <td>1</td>\n",
       "      <td>4</td>\n",
       "      <td>2025</td>\n",
       "      <td>2</td>\n",
       "      <td>0</td>\n",
       "      <td>2</td>\n",
       "      <td>0</td>\n",
       "      <td>6</td>\n",
       "      <td>0</td>\n",
       "      <td>2</td>\n",
       "    </tr>\n",
       "    <tr>\n",
       "      <th>4</th>\n",
       "      <td>1</td>\n",
       "      <td>5</td>\n",
       "      <td>2025</td>\n",
       "      <td>1</td>\n",
       "      <td>0</td>\n",
       "      <td>4</td>\n",
       "      <td>0</td>\n",
       "      <td>12</td>\n",
       "      <td>0</td>\n",
       "      <td>6</td>\n",
       "    </tr>\n",
       "    <tr>\n",
       "      <th>...</th>\n",
       "      <td>...</td>\n",
       "      <td>...</td>\n",
       "      <td>...</td>\n",
       "      <td>...</td>\n",
       "      <td>...</td>\n",
       "      <td>...</td>\n",
       "      <td>...</td>\n",
       "      <td>...</td>\n",
       "      <td>...</td>\n",
       "      <td>...</td>\n",
       "    </tr>\n",
       "    <tr>\n",
       "      <th>115</th>\n",
       "      <td>9</td>\n",
       "      <td>8</td>\n",
       "      <td>2024</td>\n",
       "      <td>3</td>\n",
       "      <td>0</td>\n",
       "      <td>3</td>\n",
       "      <td>0</td>\n",
       "      <td>11</td>\n",
       "      <td>0</td>\n",
       "      <td>4</td>\n",
       "    </tr>\n",
       "    <tr>\n",
       "      <th>116</th>\n",
       "      <td>9</td>\n",
       "      <td>9</td>\n",
       "      <td>2024</td>\n",
       "      <td>4</td>\n",
       "      <td>0</td>\n",
       "      <td>1</td>\n",
       "      <td>0</td>\n",
       "      <td>8</td>\n",
       "      <td>0</td>\n",
       "      <td>3</td>\n",
       "    </tr>\n",
       "    <tr>\n",
       "      <th>117</th>\n",
       "      <td>9</td>\n",
       "      <td>10</td>\n",
       "      <td>2024</td>\n",
       "      <td>5</td>\n",
       "      <td>0</td>\n",
       "      <td>3</td>\n",
       "      <td>0</td>\n",
       "      <td>14</td>\n",
       "      <td>0</td>\n",
       "      <td>6</td>\n",
       "    </tr>\n",
       "    <tr>\n",
       "      <th>118</th>\n",
       "      <td>9</td>\n",
       "      <td>11</td>\n",
       "      <td>2024</td>\n",
       "      <td>2</td>\n",
       "      <td>0</td>\n",
       "      <td>1</td>\n",
       "      <td>0</td>\n",
       "      <td>7</td>\n",
       "      <td>0</td>\n",
       "      <td>4</td>\n",
       "    </tr>\n",
       "    <tr>\n",
       "      <th>119</th>\n",
       "      <td>9</td>\n",
       "      <td>12</td>\n",
       "      <td>2024</td>\n",
       "      <td>6</td>\n",
       "      <td>0</td>\n",
       "      <td>1</td>\n",
       "      <td>0</td>\n",
       "      <td>8</td>\n",
       "      <td>0</td>\n",
       "      <td>1</td>\n",
       "    </tr>\n",
       "  </tbody>\n",
       "</table>\n",
       "<p>120 rows × 10 columns</p>\n",
       "</div>"
      ],
      "text/plain": [
       "    sectors  crash_month  crash_year  number_of_motorist_injured  \\\n",
       "0         1            1        2025                           1   \n",
       "1         1            2        2025                           1   \n",
       "2         1            3        2025                           2   \n",
       "3         1            4        2025                           2   \n",
       "4         1            5        2025                           1   \n",
       "..      ...          ...         ...                         ...   \n",
       "115       9            8        2024                           3   \n",
       "116       9            9        2024                           4   \n",
       "117       9           10        2024                           5   \n",
       "118       9           11        2024                           2   \n",
       "119       9           12        2024                           6   \n",
       "\n",
       "     number_of_cyclist_killed  number_of_cyclist_injured  \\\n",
       "0                           0                          1   \n",
       "1                           0                          1   \n",
       "2                           0                          1   \n",
       "3                           0                          2   \n",
       "4                           0                          4   \n",
       "..                        ...                        ...   \n",
       "115                         0                          3   \n",
       "116                         0                          1   \n",
       "117                         0                          3   \n",
       "118                         0                          1   \n",
       "119                         0                          1   \n",
       "\n",
       "     number_of_persons_killed  number_of_persons_injured  \\\n",
       "0                           0                          4   \n",
       "1                           0                          4   \n",
       "2                           0                          3   \n",
       "3                           0                          6   \n",
       "4                           0                         12   \n",
       "..                        ...                        ...   \n",
       "115                         0                         11   \n",
       "116                         0                          8   \n",
       "117                         0                         14   \n",
       "118                         0                          7   \n",
       "119                         0                          8   \n",
       "\n",
       "     number_of_pedestrians_killed  number_of_pedestrians_injured  \n",
       "0                               0                              2  \n",
       "1                               0                              2  \n",
       "2                               0                              0  \n",
       "3                               0                              2  \n",
       "4                               0                              6  \n",
       "..                            ...                            ...  \n",
       "115                             0                              4  \n",
       "116                             0                              3  \n",
       "117                             0                              6  \n",
       "118                             0                              4  \n",
       "119                             0                              1  \n",
       "\n",
       "[120 rows x 10 columns]"
      ]
     },
     "execution_count": 153,
     "metadata": {},
     "output_type": "execute_result"
    }
   ],
   "source": [
    "gdf_crash_cb3_summary = gdf_crash_cb3.groupby(['sectors', 'crash_month', 'crash_year'], as_index=False)[['number_of_motorist_injured', 'number_of_cyclist_killed', \n",
    "'number_of_cyclist_injured', 'number_of_persons_killed', 'number_of_persons_injured',\n",
    "'number_of_pedestrians_killed', 'number_of_pedestrians_injured']].sum().fillna(0)\n",
    "gdf_crash_cb3_summary"
   ]
  },
  {
   "cell_type": "code",
   "execution_count": 154,
   "metadata": {},
   "outputs": [],
   "source": [
    "gdf_crash_cb3_summary = gdf_crash_cb3_summary.groupby('sectors')[['number_of_motorist_injured', 'number_of_cyclist_killed', \n",
    "'number_of_cyclist_injured', 'number_of_persons_killed', 'number_of_persons_injured',\n",
    "'number_of_pedestrians_killed', 'number_of_pedestrians_injured']].mean()"
   ]
  },
  {
   "cell_type": "code",
   "execution_count": 155,
   "metadata": {},
   "outputs": [],
   "source": [
    "gdf_sectors.merge(gdf_crash_cb3_summary, on='sectors').to_file(\"data/acs_2023_mapbox.geojson\")"
   ]
  },
  {
   "cell_type": "code",
   "execution_count": null,
   "metadata": {},
   "outputs": [],
   "source": []
  }
 ],
 "metadata": {
  "kernelspec": {
   "display_name": "pubpol2130",
   "language": "python",
   "name": "python3"
  },
  "language_info": {
   "codemirror_mode": {
    "name": "ipython",
    "version": 3
   },
   "file_extension": ".py",
   "mimetype": "text/x-python",
   "name": "python",
   "nbconvert_exporter": "python",
   "pygments_lexer": "ipython3",
   "version": "3.13.2"
  }
 },
 "nbformat": 4,
 "nbformat_minor": 2
}
