{
 "cells": [
  {
   "cell_type": "code",
   "execution_count": 47,
   "metadata": {},
   "outputs": [],
   "source": [
    "import pandas as pd\n",
    "import geopandas as gpd"
   ]
  },
  {
   "cell_type": "markdown",
   "metadata": {},
   "source": [
    "## Load parks"
   ]
  },
  {
   "cell_type": "code",
   "execution_count": 48,
   "metadata": {},
   "outputs": [],
   "source": [
    "df_parks = gpd.read_file(\"https://data.cityofnewyork.us/resource/enfh-gkve.geojson?$limit=1000000\")"
   ]
  },
  {
   "cell_type": "code",
   "execution_count": 49,
   "metadata": {},
   "outputs": [],
   "source": [
    "df_parks[df_parks['communityboard']=='103'].to_file('data/parks.geojson')"
   ]
  },
  {
   "cell_type": "markdown",
   "metadata": {},
   "source": [
    "## Load subsidized housing"
   ]
  },
  {
   "cell_type": "code",
   "execution_count": 50,
   "metadata": {},
   "outputs": [
    {
     "name": "stderr",
     "output_type": "stream",
     "text": [
      "/var/folders/_q/g5l2s5950hz1zr9syt43gzp80000gn/T/ipykernel_3505/3538029328.py:1: DtypeWarning: Columns (103,106,118) have mixed types. Specify dtype option on import or set low_memory=False.\n",
      "  df_subsidized = pd.read_csv(\"https://furmancenter.org/files/CoreData/FC_SHD_bbl_analysis_2024-08-29.csv\")\n"
     ]
    },
    {
     "data": {
      "text/plain": [
       "Index(['data_dof', 'data_hcrlihtc', 'data_hpd', 'data_hudcon', 'data_hudfin',\n",
       "       'data_hudlihtc', 'data_ml', 'data_nycha', 'sub_fin', 'sub_prog',\n",
       "       'sub_tax', 'sub_zone', 'prog_202_8', 'start_202_8', 'end_202_8',\n",
       "       'prog_221d', 'start_221d', 'end_221d', 'prog_223', 'start_223',\n",
       "       'end_223', 'prog_420c', 'start_420c', 'end_420c', 'prog_421a',\n",
       "       'start_421a', 'end_421a', 'prog_421a_aff', 'start_421a_aff',\n",
       "       'end_421a_aff', 'prog_8a', 'start_8a', 'end_8a', 'prog_hpd_oth',\n",
       "       'start_hpd_oth', 'end_hpd_oth', 'prog_hud_fin_oth', 'start_hud_fin_oth',\n",
       "       'end_hud_fin_oth', 'prog_hud_proj_oth', 'start_hud_proj_oth',\n",
       "       'end_hud_proj_oth', 'prog_inclus_hous', 'start_inclus_hous',\n",
       "       'end_inclus_hous', 'prog_j51', 'start_j51', 'end_j51', 'prog_lamp',\n",
       "       'start_lamp', 'end_lamp', 'prog_lihtc4', 'start_lihtc4', 'end_lihtc4',\n",
       "       'prog_lihtc9', 'start_lihtc9', 'end_lihtc9', 'prog_lmsa', 'start_lmsa',\n",
       "       'end_lmsa', 'prog_mfp', 'start_mfp', 'end_mfp', 'prog_ml', 'start_ml',\n",
       "       'end_ml', 'prog_nep', 'start_nep', 'end_nep', 'prog_nrp', 'start_nrp',\n",
       "       'end_nrp', 'prog_nycha_mix', 'start_nycha_mix', 'end_nycha_mix',\n",
       "       'prog_nycha_ph', 'start_nycha_ph', 'end_nycha_ph', 'prog_plp',\n",
       "       'start_plp', 'end_plp', 'prog_prac_202', 'start_prac_202',\n",
       "       'end_prac_202', 'prog_proj8', 'start_proj8', 'end_proj8', 'prog_rad',\n",
       "       'start_rad', 'end_rad', 'prog_tpt', 'start_tpt', 'end_tpt',\n",
       "       'prog_year15', 'start_year15', 'end_year15'],\n",
       "      dtype='object')"
      ]
     },
     "execution_count": 50,
     "metadata": {},
     "output_type": "execute_result"
    }
   ],
   "source": [
    "df_subsidized = pd.read_csv(\"https://furmancenter.org/files/CoreData/FC_SHD_bbl_analysis_2024-08-29.csv\")\n",
    "df_subsidized.columns[30:]"
   ]
  },
  {
   "cell_type": "code",
   "execution_count": 51,
   "metadata": {},
   "outputs": [],
   "source": [
    "# load mappluto\n",
    "#pluto = gpd.read_file(\"data/nyc_mappluto_25v1_1_fgdb/MapPLUTO25v1_1.gdb\")\n",
    "#plutocb3 = pluto[pluto['CD']==103]\n",
    "#plutocb3.to_file('data/cb3_pluto.geojson')"
   ]
  },
  {
   "cell_type": "code",
   "execution_count": 52,
   "metadata": {},
   "outputs": [],
   "source": [
    "plutocb3_subhousing = plutocb3.merge(df_subsidized.rename(columns={'bbl':'BBL'}), on='BBL')"
   ]
  },
  {
   "cell_type": "code",
   "execution_count": 53,
   "metadata": {},
   "outputs": [],
   "source": [
    "nycha = plutocb3_subhousing[(plutocb3_subhousing['prog_nycha_mix']==1)|(plutocb3_subhousing['prog_nycha_ph']==1)]\n",
    "nycha.to_crs(4326).to_file('data/nycha.geojson')"
   ]
  },
  {
   "cell_type": "code",
   "execution_count": 54,
   "metadata": {},
   "outputs": [],
   "source": [
    "sec8 = plutocb3_subhousing[(plutocb3_subhousing['prog_proj8']==1)|(plutocb3_subhousing['prog_rad']==1)]\n",
    "sec8.to_crs(4326).to_file('data/sec8.geojson')"
   ]
  },
  {
   "cell_type": "code",
   "execution_count": null,
   "metadata": {},
   "outputs": [],
   "source": []
  }
 ],
 "metadata": {
  "kernelspec": {
   "display_name": "pubpol2130",
   "language": "python",
   "name": "python3"
  },
  "language_info": {
   "codemirror_mode": {
    "name": "ipython",
    "version": 3
   },
   "file_extension": ".py",
   "mimetype": "text/x-python",
   "name": "python",
   "nbconvert_exporter": "python",
   "pygments_lexer": "ipython3",
   "version": "3.13.0"
  }
 },
 "nbformat": 4,
 "nbformat_minor": 2
}
